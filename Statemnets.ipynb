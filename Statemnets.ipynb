{
  "nbformat": 4,
  "nbformat_minor": 0,
  "metadata": {
    "colab": {
      "provenance": [],
      "toc_visible": true,
      "authorship_tag": "ABX9TyOn7UxWf9u9Y2bvwzvG+yAI",
      "include_colab_link": true
    },
    "kernelspec": {
      "name": "python3",
      "display_name": "Python 3"
    },
    "language_info": {
      "name": "python"
    }
  },
  "cells": [
    {
      "cell_type": "markdown",
      "metadata": {
        "id": "view-in-github",
        "colab_type": "text"
      },
      "source": [
        "<a href=\"https://colab.research.google.com/github/SepidehHosseinian/function-from-zero/blob/main/Statemnets.ipynb\" target=\"_parent\"><img src=\"https://colab.research.google.com/assets/colab-badge.svg\" alt=\"Open In Colab\"/></a>"
      ]
    },
    {
      "cell_type": "markdown",
      "source": [
        "## Learning Statements\n"
      ],
      "metadata": {
        "id": "r69VK71XwCG5"
      }
    },
    {
      "cell_type": "markdown",
      "source": [
        "### DataStructure"
      ],
      "metadata": {
        "id": "ydECms4mxl4F"
      }
    },
    {
      "cell_type": "markdown",
      "source": [
        "#### List\n"
      ],
      "metadata": {
        "id": "PrItUEG7yM9Q"
      }
    },
    {
      "cell_type": "code",
      "execution_count": 1,
      "metadata": {
        "id": "1zqO28USuhlP"
      },
      "outputs": [],
      "source": [
        "my_list=[1,2,3]"
      ]
    },
    {
      "cell_type": "code",
      "source": [
        "my_list[0]"
      ],
      "metadata": {
        "colab": {
          "base_uri": "https://localhost:8080/"
        },
        "id": "n3QWpy-yx6kl",
        "outputId": "453c5dcc-7aeb-4f7f-99c1-5e3752a9fee7"
      },
      "execution_count": 2,
      "outputs": [
        {
          "output_type": "execute_result",
          "data": {
            "text/plain": [
              "1"
            ]
          },
          "metadata": {},
          "execution_count": 2
        }
      ]
    },
    {
      "cell_type": "code",
      "source": [],
      "metadata": {
        "id": "MdL4MQ_Cx9k_"
      },
      "execution_count": null,
      "outputs": []
    }
  ]
}